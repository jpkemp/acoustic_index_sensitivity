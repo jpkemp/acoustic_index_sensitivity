{
 "cells": [
  {
   "cell_type": "markdown",
   "metadata": {},
   "source": [
    "This file generates and displays the data for the sensitivity analysis on the ACI parameters, j_bin and the FFT window size."
   ]
  },
  {
   "cell_type": "code",
   "execution_count": 1,
   "metadata": {},
   "outputs": [],
   "source": [
    "import math\n",
    "import pandas as pd\n",
    "from maad.features import acoustic_complexity_index\n",
    "from maad.sound import spectrogram\n",
    "from numpy import NaN\n",
    "from rpy2.rinterface_lib.embedded import RRuntimeError\n",
    "from rpy2.robjects import FloatVector\n",
    "from rpy2.robjects.packages import importr\n",
    "from tools.r_link import Rlink\n",
    "from tools.sound_processor import SoundProcessor as sp\n",
    "from guyot_acoustic_indices.acoustic_index import AudioFile\n",
    "from guyot_acoustic_indices.compute_indice import compute_ACI, compute_spectrogram"
   ]
  },
  {
   "cell_type": "code",
   "execution_count": 2,
   "metadata": {},
   "outputs": [],
   "source": [
    "# save tropicalsound\n",
    "r_link = Rlink()\n",
    "filename = \"data/tropicalsound.wav\"\n",
    "r_link.load_src(\"tools/r_funcs.R\")\n",
    "r_link.capture_rpy2_output()\n",
    "r_link.r_src.save_tropical_sound(filename);"
   ]
  },
  {
   "cell_type": "code",
   "execution_count": 3,
   "metadata": {},
   "outputs": [],
   "source": [
    "# load packages and sound files\n",
    "wave = sp.open_wav(filename, normalise=False)\n",
    "se_wave = importr('tuneR').readWave(filename)\n",
    "seewave = importr('seewave')\n",
    "soundecology = importr('soundecology')\n",
    "r_sig = FloatVector(wave.signal)\n",
    "test = r_link.at(se_wave, 'left')\n",
    "guyot_audio = AudioFile(filename)"
   ]
  },
  {
   "cell_type": "code",
   "execution_count": 4,
   "metadata": {},
   "outputs": [],
   "source": [
    "# confirm signals are equivalent\n",
    "sig_len = len(r_sig)\n",
    "assert(sig_len == len(test))\n",
    "for signal in [test, wave.signal, guyot_audio.sig_int]:\n",
    "    assert(sig_len == len(signal))\n",
    "\n",
    "for i in range(sig_len):\n",
    "    assert(r_sig[i] == test[i])\n",
    "    assert(r_sig[i] == wave.signal[i])\n",
    "    assert(r_sig[i] == guyot_audio.sig_int[i])"
   ]
  },
  {
   "cell_type": "code",
   "execution_count": 5,
   "metadata": {},
   "outputs": [
    {
     "name": "stdout",
     "output_type": "stream",
     "text": [
      "Error in ACI_left_vals[j_index] <- D/sum_I : replacement has length zero\n",
      "\n"
     ]
    }
   ],
   "source": [
    "# calculate ACI values\n",
    "duration = len(wave.signal) / wave.fs\n",
    "timesteps = [0.1, 0.5, 0.75, 1, 2.5, 3, 5, 10, 12, 15, 18, 20]\n",
    "fft_samples = [256, 512, 1024, 2048]\n",
    "window_type = \"hamming\"\n",
    "package_name_short_forms = [\"SW\", \"SE\", \"K\", \"AI\", \"SM\"]\n",
    "results = {x: pd.DataFrame(0, \n",
    "                            index=timesteps, \n",
    "                            columns=pd.MultiIndex.from_tuples([(i, x) for i in fft_samples]), \n",
    "                            dtype=float) for x in package_name_short_forms}\n",
    "for timestep in timesteps:\n",
    "    for fft_sample in fft_samples:\n",
    "        n_windows = math.ceil(duration / timestep)\n",
    "        try:\n",
    "            aci = seewave.ACI(r_sig, wave.fs, wl=fft_sample, wn=window_type, nbwindows=n_windows); \n",
    "            results[\"SW\"].at[timestep, (fft_sample, \"SW\")] = round(aci[0], 0)\n",
    "        except RRuntimeError:\n",
    "            results[\"SW\"].at[timestep, (fft_sample, \"SW\")] = NaN\n",
    "        try:\n",
    "            aci = soundecology.acoustic_complexity(se_wave, j=timestep, fft=fft_sample); # window is hamming by default, cannot change\n",
    "            aci = { key : aci.rx2(str(key))[0] for key in aci.names }\n",
    "            aci = aci['AciTotAll_left']\n",
    "            results[\"SE\"].at[timestep, (fft_sample, \"SE\")] = round(aci, 0)\n",
    "        except RRuntimeError as e:\n",
    "            print(e)\n",
    "            results[\"SE\"].at[timestep, (fft_sample, \"SE\")] = NaN\n",
    "\n",
    "        spec = sp.create_spectrogram(wave.signal, wave.fs, samples=fft_sample, window=window_type, overlap=0, mode='magnitude');\n",
    "        aci = sp.calculate_aci(wave, timestep, spec);\n",
    "        results[\"K\"].at[timestep, (fft_sample, \"K\")] = round(aci, 0)\n",
    "        spec, f = compute_spectrogram(guyot_audio, scale_audio=False, windowType=window_type, windowLength=fft_sample, windowHop=fft_sample, square=False);\n",
    "        n_samples = math.ceil(timestep * wave.fs / fft_sample)\n",
    "        aci = compute_ACI(spec, n_samples);\n",
    "        results[\"AI\"].at[timestep, (fft_sample, \"AI\")] = round(aci[0], 0)\n",
    "        Sxx, tn, fn, ext = spectrogram (wave.signal, wave.fs, window=window_type, nperseg=fft_sample, noverlap=0, mode='amplitude')\n",
    "        _, _ , ACI  = acoustic_complexity_index(Sxx) # no way to set timestep in this implementation - always uses full width\n",
    "        if timestep == timesteps[-1]:\n",
    "            results[\"SM\"].at[timestep, (fft_sample, \"SM\")] = round(ACI, 0)\n",
    "        else:\n",
    "            results[\"SM\"].at[timestep, (fft_sample, \"SM\")] = NaN\n"
   ]
  },
  {
   "cell_type": "code",
   "execution_count": 6,
   "metadata": {},
   "outputs": [
    {
     "name": "stdout",
     "output_type": "stream",
     "text": [
      "SW results: \n",
      "          256      512      1024     2048\n",
      "            SW       SW       SW       SW\n",
      "0.10   14171.0  24830.0  35683.0      NaN\n",
      "0.50    3133.0   6267.0  12565.0  23521.0\n",
      "0.75    2135.0   4317.0   8794.0  17106.0\n",
      "1.00    1586.0   3212.0   6626.0  13121.0\n",
      "2.50     639.0   1312.0   2739.0   5618.0\n",
      "3.00     559.0   1150.0   2417.0   4982.0\n",
      "5.00     320.0    660.0   1390.0   2890.0\n",
      "10.00    161.0    332.0    704.0   1485.0\n",
      "12.00    161.0    332.0    704.0   1485.0\n",
      "15.00    161.0    332.0    704.0   1485.0\n",
      "18.00    161.0    332.0    704.0   1485.0\n",
      "20.00     81.0    167.0    355.0    747.0\n",
      "\n",
      "\n",
      "SE results: \n",
      "         256      512      1024     2048\n",
      "           SE       SE       SE       SE\n",
      "0.10      NaN  24507.0  34154.0      NaN\n",
      "0.50   3139.0   6290.0  12544.0  23126.0\n",
      "0.75   2060.0   4146.0   8474.0  16663.0\n",
      "1.00   1587.0   3214.0   6619.0  13057.0\n",
      "2.50    639.0   1312.0   2758.0   5656.0\n",
      "3.00    484.0    988.0   2075.0   4314.0\n",
      "5.00    321.0    660.0   1391.0   2899.0\n",
      "10.00   161.0    333.0    704.0   1486.0\n",
      "12.00    82.0    167.0    361.0    742.0\n",
      "15.00    82.0    168.0    358.0    759.0\n",
      "18.00    81.0    167.0    355.0    750.0\n",
      "20.00    81.0    167.0    355.0    747.0\n",
      "\n",
      "\n",
      "K results: \n",
      "          256      512      1024     2048\n",
      "             K        K        K        K\n",
      "0.10   13451.0  22320.0  31774.0  37847.0\n",
      "0.50    3093.0   6216.0  12003.0  21754.0\n",
      "0.75    2117.0   4251.0   8262.0  15589.0\n",
      "1.00    1578.0   3208.0   6500.0  13247.0\n",
      "2.50     637.0   1310.0   2702.0   5708.0\n",
      "3.00     556.0   1147.0   2365.0   4985.0\n",
      "5.00     320.0    660.0   1369.0   2919.0\n",
      "10.00    161.0    333.0    694.0   1494.0\n",
      "12.00    161.0    332.0    688.0   1488.0\n",
      "15.00    158.0    327.0    678.0   1437.0\n",
      "18.00    157.0    325.0    669.0   1416.0\n",
      "20.00     81.0    167.0    350.0    752.0\n",
      "\n",
      "\n",
      "AI results: \n",
      "          256      512      1024     2048\n",
      "            AI       AI       AI       AI\n",
      "0.10   13647.0  22362.0  32015.0  37102.0\n",
      "0.50    3057.0   6135.0  12210.0  21196.0\n",
      "0.75    2133.0   4157.0   8147.0  14879.0\n",
      "1.00    1591.0   3230.0   6583.0  12612.0\n",
      "2.50     639.0   1310.0   2749.0   5671.0\n",
      "3.00     557.0   1149.0   2409.0   4963.0\n",
      "5.00     320.0    659.0   1393.0   2899.0\n",
      "10.00    161.0    333.0    704.0   1485.0\n",
      "12.00    160.0    332.0    699.0   1480.0\n",
      "15.00    158.0    328.0    690.0   1431.0\n",
      "18.00    155.0    328.0    687.0   1415.0\n",
      "20.00     81.0    167.0    355.0    747.0\n",
      "\n",
      "\n",
      "SM results: \n",
      "\n",
      "256   SM     81.0\n",
      "512   SM    167.0\n",
      "1024  SM    355.0\n",
      "2048  SM    748.0\n",
      "Name: 20.0, dtype: float64\n"
     ]
    }
   ],
   "source": [
    "# display results\n",
    "for k, v in results.items():\n",
    "    print(f\"{k} results: \")\n",
    "    if k == \"SM\":\n",
    "        print(f\"\\n{v.loc[20.0].transpose()}\")\n",
    "        continue\n",
    "\n",
    "    print(f\"{v}\")\n",
    "    print(\"\\n\")"
   ]
  }
 ],
 "metadata": {
  "kernelspec": {
   "display_name": "Python 3 (ipykernel)",
   "language": "python",
   "name": "python3"
  }
 },
 "nbformat": 4,
 "nbformat_minor": 2
}
