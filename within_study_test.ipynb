{
 "cells": [
  {
   "cell_type": "markdown",
   "metadata": {},
   "source": [
    "# Sensitivity analysis on effect differences from FFT window size"
   ]
  },
  {
   "cell_type": "markdown",
   "metadata": {},
   "source": [
    "This file generates and displays data for the within-study parameter sensitivity analysis."
   ]
  },
  {
   "cell_type": "code",
   "execution_count": 1,
   "metadata": {},
   "outputs": [],
   "source": [
    "# imports\n",
    "import os\n",
    "import re\n",
    "from functools import partial\n",
    "from math import log\n",
    "from pathlib import Path\n",
    "\n",
    "import pandas as pd\n",
    "\n",
    "import tools.plots as plts\n",
    "from tools.index_sensitivity import IndexSensitivity\n",
    "from tools.populate_ipynb import CellAdder\n",
    "from tools.r_link import Rlink\n",
    "from study_settings.big_vicky import BigVickySettings, BigVickyToolbox\n",
    "from study_settings.carara import CararaSettings, CararaToolbox"
   ]
  },
  {
   "cell_type": "code",
   "execution_count": 2,
   "metadata": {},
   "outputs": [],
   "source": [
    "# settings and r_link\n",
    "r_link = Rlink()\n",
    "r_link.capture_rpy2_output(errorwarn_callback=print)\n",
    "r_link.load_src(\"tools/r_funcs.R\")\n",
    "indices_of_interest = [\"ACI\", \"ADI\", \"AEI\", \"BIO\"]\n",
    "output_path = Path(\"./output\")\n",
    "fft_window_sizes = [2**x for x in range(8, 16)] + [48000]"
   ]
  },
  {
   "cell_type": "code",
   "execution_count": 3,
   "metadata": {},
   "outputs": [],
   "source": [
    "def experiment(df:pd.DataFrame, group_to_process:tuple, toolbox:IndexSensitivity, r_link:Rlink, marine:bool, factors:list, cross_effect:str):\n",
    "    '''\n",
    "    Models and obtains conditional effects for every set of values in the dataframe. Sets are defined by grouping the \"Index\", \"Filtered\", and \"Band\" columns.\n",
    "    This function is designed for use in this notebook and may not generalise well.\n",
    "\n",
    "    df: dataframe of index values\n",
    "    group_to_process: tuple with the multi-index of the group to model\n",
    "    toolbox: an instance of the IndexSensitivity class, with settings relevant to the data and models\n",
    "    r_link: an instance of the Rlink class\n",
    "    marine: whether the data is from Big Vicky's (True) or Carara (False)\n",
    "    factors: which columns to treat as factors\n",
    "    cross_effect: which column is treated as the cross effect (along with Window) \n",
    "\n",
    "    returns: a matplotlib figure of the model, and a table with the posterior effects summary\n",
    "    '''\n",
    "    samp_to_s = partial(toolbox.samples_to_s, toolbox.settings.sample_rate)\n",
    "    s_to_samp = partial(toolbox.s_to_samples, toolbox.settings.sample_rate)\n",
    "    conditional_effects = {}\n",
    "    grouped_data = df.groupby(['Index', 'Filtered', 'Band']) \n",
    "    group = grouped_data.get_group(group_to_process).copy()\n",
    "    index, filtered, band = group_to_process\n",
    "    log_window = index != \"AEI\"\n",
    "    if log_window:\n",
    "        group[\"Window\"] = group[\"Window\"].apply(lambda x: log(x))\n",
    "\n",
    "    if index not in conditional_effects:\n",
    "        conditional_effects[index] = {True: {}, False: {}}\n",
    "\n",
    "    txt = '_filtered' if filtered else ''\n",
    "    flt = txt.replace('_', ' ')\n",
    "    all_text = (index, flt, band, cross_effect)\n",
    "    model, effects = toolbox.build_model(r_link, marine, all_text, group, factors)\n",
    "    filename = output_path / f\"{cross_effect}_x_Window_conditional_effects_for_{index}_over{txt}_{band}_frequencies_Python\"\n",
    "    secax = (\"Window duration (s)\", (samp_to_s, s_to_samp))\n",
    "    fig = plts.plot_conditional_effects(r_link,\n",
    "                                    filename, \n",
    "                                    effects, \n",
    "                                    plot_points=True, \n",
    "                                    sec_ax=secax, \n",
    "                                    colors=toolbox.settings.colors, \n",
    "                                    unlog=log_window)\n",
    "    conditional_effects[index][filtered][band] = effects\n",
    "    posterior_ratios = r_link.r_src.get_posterior_ratios(model, num=toolbox.settings.num, den=toolbox.settings.den, cross=cross_effect)\n",
    "    posterior_effects = r_link.r_src.get_posterior_ratio_summary(posterior_ratios)\n",
    "\n",
    "    warnings = r_link.r_src.get_warnings()\n",
    "    if warnings != r_link.null_value:\n",
    "        print(warnings)\n",
    "\n",
    "    return fig, posterior_effects"
   ]
  },
  {
   "cell_type": "code",
   "execution_count": null,
   "metadata": {},
   "outputs": [],
   "source": [
    "# print(CellAdder.generate_index_definitions())"
   ]
  },
  {
   "cell_type": "code",
   "execution_count": 4,
   "metadata": {},
   "outputs": [],
   "source": [
    "# index definitions\n",
    "broadband_ACI_group = ('ACI', False, 'broadband')\n",
    "broadband_ADI_group = ('ADI', False, 'broadband')\n",
    "broadband_AEI_group = ('AEI', False, 'broadband')\n",
    "broadband_BIO_group = ('BIO', False, 'broadband')\n",
    "fish_extracted_ACI_group = ('ACI', False, 'fish')\n",
    "fish_extracted_ADI_group = ('ADI', False, 'fish')\n",
    "fish_extracted_AEI_group = ('AEI', False, 'fish')\n",
    "fish_extracted_BIO_group = ('BIO', False, 'fish')\n",
    "fish_filtered_ACI_group = ('ACI', True, 'fish')\n",
    "fish_filtered_ADI_group = ('ADI', True, 'fish')\n",
    "fish_filtered_AEI_group = ('AEI', True, 'fish')\n",
    "fish_filtered_BIO_group = ('BIO', True, 'fish')\n",
    "shrimp_extracted_ACI_group = ('ACI', False, 'shrimp')\n",
    "shrimp_extracted_ADI_group = ('ADI', False, 'shrimp')\n",
    "shrimp_extracted_AEI_group = ('AEI', False, 'shrimp')\n",
    "shrimp_extracted_BIO_group = ('BIO', False, 'shrimp')\n",
    "shrimp_filtered_ACI_group = ('ACI', True, 'shrimp')\n",
    "shrimp_filtered_ADI_group = ('ADI', True, 'shrimp')\n",
    "shrimp_filtered_AEI_group = ('AEI', True, 'shrimp')\n",
    "shrimp_filtered_BIO_group = ('BIO', True, 'shrimp')"
   ]
  },
  {
   "cell_type": "markdown",
   "metadata": {},
   "source": [
    "## Carara"
   ]
  },
  {
   "cell_type": "code",
   "execution_count": null,
   "metadata": {},
   "outputs": [],
   "source": [
    "# settings and frequency bands\n",
    "carara_settings = CararaSettings\n",
    "carara_settings.data_location = os.path.expanduser(carara_settings.data_location)\n",
    "test_bands = [(\"broadband\", (0, carara_settings.max_freq), False)]\n"
   ]
  },
  {
   "cell_type": "code",
   "execution_count": null,
   "metadata": {},
   "outputs": [],
   "source": [
    "carara_toolbox = CararaToolbox(carara_settings, fft_window_sizes, test_bands, indices_of_interest)"
   ]
  },
  {
   "cell_type": "code",
   "execution_count": null,
   "metadata": {},
   "outputs": [],
   "source": [
    "carara_index_values = carara_toolbox.get_index_values(output_file=\"output/terrestrial_index_values\")"
   ]
  },
  {
   "cell_type": "code",
   "execution_count": null,
   "metadata": {},
   "outputs": [],
   "source": [
    "carara_df = carara_toolbox.create_dataframe(carara_index_values, output_path=\"output/terrestrial_dataframe.pkl\")"
   ]
  },
  {
   "cell_type": "markdown",
   "metadata": {},
   "source": [
    "### Carara - broadband ACI\n"
   ]
  },
  {
   "cell_type": "code",
   "execution_count": null,
   "metadata": {},
   "outputs": [],
   "source": [
    "carara_broadband_ACI_fig, carara_broadband_ACI_ratio_summary = experiment(carara_df,\n",
    "          broadband_ACI_group,\n",
    "          carara_toolbox,\n",
    "          r_link,\n",
    "          marine=False,\n",
    "          factors=['Site'],\n",
    "          cross_effect='Site')\n"
   ]
  },
  {
   "cell_type": "code",
   "execution_count": null,
   "metadata": {},
   "outputs": [],
   "source": [
    "print(carara_broadband_ACI_ratio_summary)\n"
   ]
  },
  {
   "cell_type": "code",
   "execution_count": null,
   "metadata": {},
   "outputs": [],
   "source": [
    "carara_broadband_ACI_fig\n"
   ]
  },
  {
   "cell_type": "markdown",
   "metadata": {},
   "source": [
    "### Carara - broadband ADI\n"
   ]
  },
  {
   "cell_type": "code",
   "execution_count": null,
   "metadata": {},
   "outputs": [],
   "source": [
    "carara_broadband_ADI_fig, carara_broadband_ADI_ratio_summary = experiment(carara_df,\n",
    "          broadband_ADI_group,\n",
    "          carara_toolbox,\n",
    "          r_link,\n",
    "          marine=False,\n",
    "          factors=['Site'],\n",
    "          cross_effect='Site')\n"
   ]
  },
  {
   "cell_type": "code",
   "execution_count": null,
   "metadata": {},
   "outputs": [],
   "source": [
    "print(carara_broadband_ADI_ratio_summary)\n"
   ]
  },
  {
   "cell_type": "code",
   "execution_count": null,
   "metadata": {},
   "outputs": [],
   "source": [
    "carara_broadband_ADI_fig\n"
   ]
  },
  {
   "cell_type": "markdown",
   "metadata": {},
   "source": [
    "### Carara - broadband AEI\n"
   ]
  },
  {
   "cell_type": "code",
   "execution_count": null,
   "metadata": {},
   "outputs": [],
   "source": [
    "carara_broadband_AEI_fig, carara_broadband_AEI_ratio_summary = experiment(carara_df,\n",
    "          broadband_AEI_group,\n",
    "          carara_toolbox,\n",
    "          r_link,\n",
    "          marine=False,\n",
    "          factors=['Site'],\n",
    "          cross_effect='Site')\n"
   ]
  },
  {
   "cell_type": "code",
   "execution_count": null,
   "metadata": {},
   "outputs": [],
   "source": [
    "print(carara_broadband_AEI_ratio_summary)\n"
   ]
  },
  {
   "cell_type": "code",
   "execution_count": null,
   "metadata": {},
   "outputs": [],
   "source": [
    "carara_broadband_AEI_fig\n"
   ]
  },
  {
   "cell_type": "markdown",
   "metadata": {},
   "source": [
    "### Carara - broadband BIO\n"
   ]
  },
  {
   "cell_type": "code",
   "execution_count": null,
   "metadata": {},
   "outputs": [],
   "source": [
    "carara_broadband_BIO_fig, carara_broadband_BIO_ratio_summary = experiment(carara_df,\n",
    "          broadband_BIO_group,\n",
    "          carara_toolbox,\n",
    "          r_link,\n",
    "          marine=False,\n",
    "          factors=['Site'],\n",
    "          cross_effect='Site')\n"
   ]
  },
  {
   "cell_type": "code",
   "execution_count": null,
   "metadata": {},
   "outputs": [],
   "source": [
    "print(carara_broadband_BIO_ratio_summary)\n"
   ]
  },
  {
   "cell_type": "code",
   "execution_count": null,
   "metadata": {},
   "outputs": [],
   "source": [
    "carara_broadband_BIO_fig\n"
   ]
  },
  {
   "cell_type": "markdown",
   "metadata": {},
   "source": [
    "## Big Vicky"
   ]
  },
  {
   "cell_type": "code",
   "execution_count": 5,
   "metadata": {},
   "outputs": [],
   "source": [
    "# settings and frequency bands\n",
    "vicky_settings = BigVickySettings\n",
    "vicky_settings.data_location = os.path.expanduser(vicky_settings.data_location)\n",
    "test_bands = [(\"broadband\", (0, vicky_settings.sample_rate), False),\n",
    "              (\"shrimp\", vicky_settings.shrimp_frequencies, False),\n",
    "              (\"shrimp\", vicky_settings.shrimp_frequencies, True),\n",
    "              (\"fish\", vicky_settings.fish_frequencies, False),\n",
    "              (\"fish\", vicky_settings.fish_frequencies, True)]\n"
   ]
  },
  {
   "cell_type": "code",
   "execution_count": 6,
   "metadata": {},
   "outputs": [],
   "source": [
    "vicky_toolbox = BigVickyToolbox(vicky_settings, fft_window_sizes, test_bands, indices_of_interest)"
   ]
  },
  {
   "cell_type": "code",
   "execution_count": 7,
   "metadata": {},
   "outputs": [],
   "source": [
    "vicky_index_values = vicky_toolbox.get_index_values(output_file=\"output/vicky_index_values.pkl\")"
   ]
  },
  {
   "cell_type": "code",
   "execution_count": null,
   "metadata": {},
   "outputs": [],
   "source": [
    "vicky_df = vicky_toolbox.create_dataframe(vicky_index_values, output_path=\"output/vicky_dataframe.pkl\")"
   ]
  },
  {
   "cell_type": "markdown",
   "metadata": {},
   "source": [
    "### Big Vicky - broadband ACI\n"
   ]
  },
  {
   "cell_type": "code",
   "execution_count": null,
   "metadata": {},
   "outputs": [],
   "source": [
    "vicky_extracted_broadband_ACI_fig, vicky_extracted_broadband_ACI_ratio_summary = experiment(vicky_df,\n",
    "          broadband_ACI_group,\n",
    "          vicky_toolbox,\n",
    "          r_link,\n",
    "          marine=True,\n",
    "          factors=['Hour', 'Site'],\n",
    "          cross_effect='Hour')\n"
   ]
  },
  {
   "cell_type": "code",
   "execution_count": null,
   "metadata": {},
   "outputs": [],
   "source": [
    "print(vicky_extracted_broadband_ACI_ratio_summary)\n"
   ]
  },
  {
   "cell_type": "code",
   "execution_count": null,
   "metadata": {},
   "outputs": [],
   "source": [
    "vicky_extracted_broadband_ACI_fig\n"
   ]
  },
  {
   "cell_type": "markdown",
   "metadata": {},
   "source": [
    "### Big Vicky - extracted fish ACI\n"
   ]
  },
  {
   "cell_type": "code",
   "execution_count": null,
   "metadata": {},
   "outputs": [],
   "source": [
    "vicky_extracted_fish_ACI_fig, vicky_extracted_fish_ACI_ratio_summary = experiment(vicky_df,\n",
    "          fish_extracted_ACI_group,\n",
    "          vicky_toolbox,\n",
    "          r_link,\n",
    "          marine=True,\n",
    "          factors=['Hour', 'Site'],\n",
    "          cross_effect='Hour')\n"
   ]
  },
  {
   "cell_type": "code",
   "execution_count": null,
   "metadata": {},
   "outputs": [],
   "source": [
    "print(vicky_extracted_fish_ACI_ratio_summary)\n"
   ]
  },
  {
   "cell_type": "code",
   "execution_count": null,
   "metadata": {},
   "outputs": [],
   "source": [
    "vicky_extracted_fish_ACI_fig\n"
   ]
  },
  {
   "cell_type": "markdown",
   "metadata": {},
   "source": [
    "### Big Vicky - extracted shrimp ACI\n"
   ]
  },
  {
   "cell_type": "code",
   "execution_count": null,
   "metadata": {},
   "outputs": [],
   "source": [
    "vicky_extracted_shrimp_ACI_fig, vicky_extracted_shrimp_ACI_ratio_summary = experiment(vicky_df,\n",
    "          shrimp_extracted_ACI_group,\n",
    "          vicky_toolbox,\n",
    "          r_link,\n",
    "          marine=True,\n",
    "          factors=['Hour', 'Site'],\n",
    "          cross_effect='Hour')\n"
   ]
  },
  {
   "cell_type": "code",
   "execution_count": null,
   "metadata": {},
   "outputs": [],
   "source": [
    "print(vicky_extracted_shrimp_ACI_ratio_summary)\n"
   ]
  },
  {
   "cell_type": "code",
   "execution_count": null,
   "metadata": {},
   "outputs": [],
   "source": [
    "vicky_extracted_shrimp_ACI_fig\n"
   ]
  },
  {
   "cell_type": "markdown",
   "metadata": {},
   "source": [
    "### Big Vicky - filtered fish ACI\n"
   ]
  },
  {
   "cell_type": "code",
   "execution_count": null,
   "metadata": {},
   "outputs": [],
   "source": [
    "vicky_filtered_fish_ACI_fig, vicky_filtered_fish_ACI_ratio_summary = experiment(vicky_df,\n",
    "          fish_filtered_ACI_group,\n",
    "          vicky_toolbox,\n",
    "          r_link,\n",
    "          marine=True,\n",
    "          factors=['Hour', 'Site'],\n",
    "          cross_effect='Hour')\n"
   ]
  },
  {
   "cell_type": "code",
   "execution_count": null,
   "metadata": {},
   "outputs": [],
   "source": [
    "print(vicky_filtered_fish_ACI_ratio_summary)\n"
   ]
  },
  {
   "cell_type": "code",
   "execution_count": null,
   "metadata": {},
   "outputs": [],
   "source": [
    "vicky_filtered_fish_ACI_fig\n"
   ]
  },
  {
   "cell_type": "markdown",
   "metadata": {},
   "source": [
    "### Big Vicky - filtered shrimp ACI\n"
   ]
  },
  {
   "cell_type": "code",
   "execution_count": null,
   "metadata": {},
   "outputs": [],
   "source": [
    "vicky_filtered_shrimp_ACI_fig, vicky_filtered_shrimp_ACI_ratio_summary = experiment(vicky_df,\n",
    "          shrimp_filtered_ACI_group,\n",
    "          vicky_toolbox,\n",
    "          r_link,\n",
    "          marine=True,\n",
    "          factors=['Hour', 'Site'],\n",
    "          cross_effect='Hour')\n"
   ]
  },
  {
   "cell_type": "code",
   "execution_count": null,
   "metadata": {},
   "outputs": [],
   "source": [
    "print(vicky_filtered_shrimp_ACI_ratio_summary)\n"
   ]
  },
  {
   "cell_type": "code",
   "execution_count": null,
   "metadata": {},
   "outputs": [],
   "source": [
    "vicky_filtered_shrimp_ACI_fig\n"
   ]
  },
  {
   "cell_type": "markdown",
   "metadata": {},
   "source": [
    "### Big Vicky - broadband ADI\n"
   ]
  },
  {
   "cell_type": "code",
   "execution_count": null,
   "metadata": {},
   "outputs": [],
   "source": [
    "vicky_extracted_broadband_ADI_fig, vicky_extracted_broadband_ADI_ratio_summary = experiment(vicky_df,\n",
    "          broadband_ADI_group,\n",
    "          vicky_toolbox,\n",
    "          r_link,\n",
    "          marine=True,\n",
    "          factors=['Hour', 'Site'],\n",
    "          cross_effect='Hour')\n"
   ]
  },
  {
   "cell_type": "code",
   "execution_count": null,
   "metadata": {},
   "outputs": [],
   "source": [
    "print(vicky_extracted_broadband_ADI_ratio_summary)\n"
   ]
  },
  {
   "cell_type": "code",
   "execution_count": null,
   "metadata": {},
   "outputs": [],
   "source": [
    "vicky_extracted_broadband_ADI_fig\n"
   ]
  },
  {
   "cell_type": "markdown",
   "metadata": {},
   "source": [
    "### Big Vicky - extracted fish ADI\n"
   ]
  },
  {
   "cell_type": "code",
   "execution_count": null,
   "metadata": {},
   "outputs": [],
   "source": [
    "vicky_extracted_fish_ADI_fig, vicky_extracted_fish_ADI_ratio_summary = experiment(vicky_df,\n",
    "          fish_extracted_ADI_group,\n",
    "          vicky_toolbox,\n",
    "          r_link,\n",
    "          marine=True,\n",
    "          factors=['Hour', 'Site'],\n",
    "          cross_effect='Hour')\n"
   ]
  },
  {
   "cell_type": "code",
   "execution_count": null,
   "metadata": {},
   "outputs": [],
   "source": [
    "print(vicky_extracted_fish_ADI_ratio_summary)\n"
   ]
  },
  {
   "cell_type": "code",
   "execution_count": null,
   "metadata": {},
   "outputs": [],
   "source": [
    "vicky_extracted_fish_ADI_fig\n"
   ]
  },
  {
   "cell_type": "markdown",
   "metadata": {},
   "source": [
    "### Big Vicky - extracted shrimp ADI\n"
   ]
  },
  {
   "cell_type": "code",
   "execution_count": null,
   "metadata": {},
   "outputs": [],
   "source": [
    "vicky_extracted_shrimp_ADI_fig, vicky_extracted_shrimp_ADI_ratio_summary = experiment(vicky_df,\n",
    "          shrimp_extracted_ADI_group,\n",
    "          vicky_toolbox,\n",
    "          r_link,\n",
    "          marine=True,\n",
    "          factors=['Hour', 'Site'],\n",
    "          cross_effect='Hour')\n"
   ]
  },
  {
   "cell_type": "code",
   "execution_count": null,
   "metadata": {},
   "outputs": [],
   "source": [
    "print(vicky_extracted_shrimp_ADI_ratio_summary)\n"
   ]
  },
  {
   "cell_type": "code",
   "execution_count": null,
   "metadata": {},
   "outputs": [],
   "source": [
    "vicky_extracted_shrimp_ADI_fig\n"
   ]
  },
  {
   "cell_type": "markdown",
   "metadata": {},
   "source": [
    "### Big Vicky - filtered fish ADI\n"
   ]
  },
  {
   "cell_type": "code",
   "execution_count": null,
   "metadata": {},
   "outputs": [],
   "source": [
    "vicky_filtered_fish_ADI_fig, vicky_filtered_fish_ADI_ratio_summary = experiment(vicky_df,\n",
    "          fish_filtered_ADI_group,\n",
    "          vicky_toolbox,\n",
    "          r_link,\n",
    "          marine=True,\n",
    "          factors=['Hour', 'Site'],\n",
    "          cross_effect='Hour')\n"
   ]
  },
  {
   "cell_type": "code",
   "execution_count": null,
   "metadata": {},
   "outputs": [],
   "source": [
    "print(vicky_filtered_fish_ADI_ratio_summary)\n"
   ]
  },
  {
   "cell_type": "code",
   "execution_count": null,
   "metadata": {},
   "outputs": [],
   "source": [
    "vicky_filtered_fish_ADI_fig\n"
   ]
  },
  {
   "cell_type": "markdown",
   "metadata": {},
   "source": [
    "### Big Vicky - filtered shrimp ADI\n"
   ]
  },
  {
   "cell_type": "code",
   "execution_count": null,
   "metadata": {},
   "outputs": [],
   "source": [
    "vicky_filtered_shrimp_ADI_fig, vicky_filtered_shrimp_ADI_ratio_summary = experiment(vicky_df,\n",
    "          shrimp_filtered_ADI_group,\n",
    "          vicky_toolbox,\n",
    "          r_link,\n",
    "          marine=True,\n",
    "          factors=['Hour', 'Site'],\n",
    "          cross_effect='Hour')\n"
   ]
  },
  {
   "cell_type": "code",
   "execution_count": null,
   "metadata": {},
   "outputs": [],
   "source": [
    "print(vicky_filtered_shrimp_ADI_ratio_summary)\n"
   ]
  },
  {
   "cell_type": "code",
   "execution_count": null,
   "metadata": {},
   "outputs": [],
   "source": [
    "vicky_filtered_shrimp_ADI_fig\n"
   ]
  },
  {
   "cell_type": "markdown",
   "metadata": {},
   "source": [
    "### Big Vicky - broadband AEI\n"
   ]
  },
  {
   "cell_type": "code",
   "execution_count": null,
   "metadata": {},
   "outputs": [],
   "source": [
    "vicky_extracted_broadband_AEI_fig, vicky_extracted_broadband_AEI_ratio_summary = experiment(vicky_df,\n",
    "          broadband_AEI_group,\n",
    "          vicky_toolbox,\n",
    "          r_link,\n",
    "          marine=True,\n",
    "          factors=['Hour', 'Site'],\n",
    "          cross_effect='Hour')\n"
   ]
  },
  {
   "cell_type": "code",
   "execution_count": null,
   "metadata": {},
   "outputs": [],
   "source": [
    "print(vicky_extracted_broadband_AEI_ratio_summary)\n"
   ]
  },
  {
   "cell_type": "code",
   "execution_count": null,
   "metadata": {},
   "outputs": [],
   "source": [
    "vicky_extracted_broadband_AEI_fig\n"
   ]
  },
  {
   "cell_type": "markdown",
   "metadata": {},
   "source": [
    "### Big Vicky - extracted fish AEI\n"
   ]
  },
  {
   "cell_type": "code",
   "execution_count": null,
   "metadata": {},
   "outputs": [],
   "source": [
    "vicky_extracted_fish_AEI_fig, vicky_extracted_fish_AEI_ratio_summary = experiment(vicky_df,\n",
    "          fish_extracted_AEI_group,\n",
    "          vicky_toolbox,\n",
    "          r_link,\n",
    "          marine=True,\n",
    "          factors=['Hour', 'Site'],\n",
    "          cross_effect='Hour')\n"
   ]
  },
  {
   "cell_type": "code",
   "execution_count": null,
   "metadata": {},
   "outputs": [],
   "source": [
    "print(vicky_extracted_fish_AEI_ratio_summary)\n"
   ]
  },
  {
   "cell_type": "code",
   "execution_count": null,
   "metadata": {},
   "outputs": [],
   "source": [
    "vicky_extracted_fish_AEI_fig\n"
   ]
  },
  {
   "cell_type": "markdown",
   "metadata": {},
   "source": [
    "### Big Vicky - extracted shrimp AEI\n"
   ]
  },
  {
   "cell_type": "code",
   "execution_count": null,
   "metadata": {},
   "outputs": [],
   "source": [
    "vicky_extracted_shrimp_AEI_fig, vicky_extracted_shrimp_AEI_ratio_summary = experiment(vicky_df,\n",
    "          shrimp_extracted_AEI_group,\n",
    "          vicky_toolbox,\n",
    "          r_link,\n",
    "          marine=True,\n",
    "          factors=['Hour', 'Site'],\n",
    "          cross_effect='Hour')\n"
   ]
  },
  {
   "cell_type": "code",
   "execution_count": null,
   "metadata": {},
   "outputs": [],
   "source": [
    "print(vicky_extracted_shrimp_AEI_ratio_summary)\n"
   ]
  },
  {
   "cell_type": "code",
   "execution_count": null,
   "metadata": {},
   "outputs": [],
   "source": [
    "vicky_extracted_shrimp_AEI_fig\n"
   ]
  },
  {
   "cell_type": "markdown",
   "metadata": {},
   "source": [
    "### Big Vicky - filtered fish AEI\n"
   ]
  },
  {
   "cell_type": "code",
   "execution_count": null,
   "metadata": {},
   "outputs": [],
   "source": [
    "vicky_filtered_fish_AEI_fig, vicky_filtered_fish_AEI_ratio_summary = experiment(vicky_df,\n",
    "          fish_filtered_AEI_group,\n",
    "          vicky_toolbox,\n",
    "          r_link,\n",
    "          marine=True,\n",
    "          factors=['Hour', 'Site'],\n",
    "          cross_effect='Hour')\n"
   ]
  },
  {
   "cell_type": "code",
   "execution_count": null,
   "metadata": {},
   "outputs": [],
   "source": [
    "print(vicky_filtered_fish_AEI_ratio_summary)\n"
   ]
  },
  {
   "cell_type": "code",
   "execution_count": null,
   "metadata": {},
   "outputs": [],
   "source": [
    "vicky_filtered_fish_AEI_fig\n"
   ]
  },
  {
   "cell_type": "markdown",
   "metadata": {},
   "source": [
    "### Big Vicky - filtered shrimp AEI\n"
   ]
  },
  {
   "cell_type": "code",
   "execution_count": null,
   "metadata": {},
   "outputs": [],
   "source": [
    "vicky_filtered_shrimp_AEI_fig, vicky_filtered_shrimp_AEI_ratio_summary = experiment(vicky_df,\n",
    "          shrimp_filtered_AEI_group,\n",
    "          vicky_toolbox,\n",
    "          r_link,\n",
    "          marine=True,\n",
    "          factors=['Hour', 'Site'],\n",
    "          cross_effect='Hour')\n"
   ]
  },
  {
   "cell_type": "code",
   "execution_count": null,
   "metadata": {},
   "outputs": [],
   "source": [
    "print(vicky_filtered_shrimp_AEI_ratio_summary)\n"
   ]
  },
  {
   "cell_type": "code",
   "execution_count": null,
   "metadata": {},
   "outputs": [],
   "source": [
    "vicky_filtered_shrimp_AEI_fig\n"
   ]
  },
  {
   "cell_type": "markdown",
   "metadata": {},
   "source": [
    "### Big Vicky - broadband BIO\n"
   ]
  },
  {
   "cell_type": "code",
   "execution_count": null,
   "metadata": {},
   "outputs": [],
   "source": [
    "vicky_extracted_broadband_BIO_fig, vicky_extracted_broadband_BIO_ratio_summary = experiment(vicky_df,\n",
    "          broadband_BIO_group,\n",
    "          vicky_toolbox,\n",
    "          r_link,\n",
    "          marine=True,\n",
    "          factors=['Hour', 'Site'],\n",
    "          cross_effect='Hour')\n"
   ]
  },
  {
   "cell_type": "code",
   "execution_count": null,
   "metadata": {},
   "outputs": [],
   "source": [
    "print(vicky_extracted_broadband_BIO_ratio_summary)\n"
   ]
  },
  {
   "cell_type": "code",
   "execution_count": null,
   "metadata": {},
   "outputs": [],
   "source": [
    "vicky_extracted_broadband_BIO_fig\n"
   ]
  },
  {
   "cell_type": "markdown",
   "metadata": {},
   "source": [
    "### Big Vicky - extracted fish BIO\n"
   ]
  },
  {
   "cell_type": "code",
   "execution_count": null,
   "metadata": {},
   "outputs": [],
   "source": [
    "vicky_extracted_fish_BIO_fig, vicky_extracted_fish_BIO_ratio_summary = experiment(vicky_df,\n",
    "          fish_extracted_BIO_group,\n",
    "          vicky_toolbox,\n",
    "          r_link,\n",
    "          marine=True,\n",
    "          factors=['Hour', 'Site'],\n",
    "          cross_effect='Hour')\n"
   ]
  },
  {
   "cell_type": "code",
   "execution_count": null,
   "metadata": {},
   "outputs": [],
   "source": [
    "print(vicky_extracted_fish_BIO_ratio_summary)\n"
   ]
  },
  {
   "cell_type": "code",
   "execution_count": null,
   "metadata": {},
   "outputs": [],
   "source": [
    "vicky_extracted_fish_BIO_fig\n"
   ]
  },
  {
   "cell_type": "markdown",
   "metadata": {},
   "source": [
    "### Big Vicky - extracted shrimp BIO\n"
   ]
  },
  {
   "cell_type": "code",
   "execution_count": null,
   "metadata": {},
   "outputs": [],
   "source": [
    "vicky_extracted_shrimp_BIO_fig, vicky_extracted_shrimp_BIO_ratio_summary = experiment(vicky_df,\n",
    "          shrimp_extracted_BIO_group,\n",
    "          vicky_toolbox,\n",
    "          r_link,\n",
    "          marine=True,\n",
    "          factors=['Hour', 'Site'],\n",
    "          cross_effect='Hour')\n"
   ]
  },
  {
   "cell_type": "code",
   "execution_count": null,
   "metadata": {},
   "outputs": [],
   "source": [
    "print(vicky_extracted_shrimp_BIO_ratio_summary)\n"
   ]
  },
  {
   "cell_type": "code",
   "execution_count": null,
   "metadata": {},
   "outputs": [],
   "source": [
    "vicky_extracted_shrimp_BIO_fig\n"
   ]
  },
  {
   "cell_type": "markdown",
   "metadata": {},
   "source": [
    "### Big Vicky - filtered fish BIO\n"
   ]
  },
  {
   "cell_type": "code",
   "execution_count": null,
   "metadata": {},
   "outputs": [],
   "source": [
    "vicky_filtered_fish_BIO_fig, vicky_filtered_fish_BIO_ratio_summary = experiment(vicky_df,\n",
    "          fish_filtered_BIO_group,\n",
    "          vicky_toolbox,\n",
    "          r_link,\n",
    "          marine=True,\n",
    "          factors=['Hour', 'Site'],\n",
    "          cross_effect='Hour')\n"
   ]
  },
  {
   "cell_type": "code",
   "execution_count": null,
   "metadata": {},
   "outputs": [],
   "source": [
    "print(vicky_filtered_fish_BIO_ratio_summary)\n"
   ]
  },
  {
   "cell_type": "code",
   "execution_count": null,
   "metadata": {},
   "outputs": [],
   "source": [
    "vicky_filtered_fish_BIO_fig\n"
   ]
  },
  {
   "cell_type": "markdown",
   "metadata": {},
   "source": [
    "### Big Vicky - filtered shrimp BIO\n"
   ]
  },
  {
   "cell_type": "code",
   "execution_count": null,
   "metadata": {},
   "outputs": [],
   "source": [
    "vicky_filtered_shrimp_BIO_fig, vicky_filtered_shrimp_BIO_ratio_summary = experiment(vicky_df,\n",
    "          shrimp_filtered_BIO_group,\n",
    "          vicky_toolbox,\n",
    "          r_link,\n",
    "          marine=True,\n",
    "          factors=['Hour', 'Site'],\n",
    "          cross_effect='Hour')\n"
   ]
  },
  {
   "cell_type": "code",
   "execution_count": null,
   "metadata": {},
   "outputs": [],
   "source": [
    "print(vicky_filtered_shrimp_BIO_ratio_summary)\n"
   ]
  },
  {
   "cell_type": "code",
   "execution_count": null,
   "metadata": {},
   "outputs": [],
   "source": [
    "vicky_filtered_shrimp_BIO_fig\n"
   ]
  }
 ],
 "metadata": {
  "kernelspec": {
   "display_name": "Python 3 (ipykernel)",
   "language": "python",
   "name": "python3"
  },
  "language_info": {
   "codemirror_mode": {
    "name": "ipython",
    "version": 3
   },
   "file_extension": ".py",
   "mimetype": "text/x-python",
   "name": "python",
   "nbconvert_exporter": "python",
   "pygments_lexer": "ipython3",
   "version": "3.10.12"
  }
 },
 "nbformat": 4,
 "nbformat_minor": 2
}
